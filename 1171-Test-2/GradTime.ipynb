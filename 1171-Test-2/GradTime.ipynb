{
 "cells": [
  {
   "cell_type": "code",
   "execution_count": 1,
   "id": "29de24f9",
   "metadata": {},
   "outputs": [],
   "source": [
    "import pandas as pd"
   ]
  },
  {
   "cell_type": "code",
   "execution_count": 2,
   "id": "e4ac8f7d",
   "metadata": {},
   "outputs": [],
   "source": [
    "bint_df = pd.read_csv(\"BINT.csv\")"
   ]
  },
  {
   "cell_type": "code",
   "execution_count": 3,
   "id": "d90a8580",
   "metadata": {},
   "outputs": [],
   "source": [
    "bint_df_avgrad= bint_df.drop_duplicates(subset=\"STUID\",keep=\"last\")"
   ]
  },
  {
   "cell_type": "code",
   "execution_count": 4,
   "id": "a2b8bb94",
   "metadata": {},
   "outputs": [],
   "source": [
    "bint_df_avgrad= bint_df.drop_duplicates(subset=\"STUID\",keep=\"last\").drop([\"DOB\",\"GENDER\",\"ETHNICITYID\",\"ETHNICITY\",\"CITYID\",\"CITY\",\"DISTRICTID\",\"DISTRICT\",\"FEEDERID\",\"FEEDER\",\"PROGRAM\",\"DEGREEID\",\"DEGREE\",\"BREAK\",\"CODE\",\"ENROLLEDSEMESTER\", \"SEMESTERCREDITSATTEMPTED\",\"SEMESTERCREDITSEARNED\",\"SEMESTERPOINTS\", \"SEMESTERGPA\",\"COURSECODE\",\"COURSETITLE\",\"COURSEGRADE\",\"COURSECREDITS\",\"COURSEPOINTS\",\"COURSEGPA\", \"COMMENTS\", \"CGPA\"], axis=1)"
   ]
  },
  {
   "cell_type": "code",
   "execution_count": 5,
   "id": "4bd760ba",
   "metadata": {},
   "outputs": [
    {
     "data": {
      "text/html": [
       "<div>\n",
       "<style scoped>\n",
       "    .dataframe tbody tr th:only-of-type {\n",
       "        vertical-align: middle;\n",
       "    }\n",
       "\n",
       "    .dataframe tbody tr th {\n",
       "        vertical-align: top;\n",
       "    }\n",
       "\n",
       "    .dataframe thead th {\n",
       "        text-align: right;\n",
       "    }\n",
       "</style>\n",
       "<table border=\"1\" class=\"dataframe\">\n",
       "  <thead>\n",
       "    <tr style=\"text-align: right;\">\n",
       "      <th></th>\n",
       "      <th>STUID</th>\n",
       "      <th>PROGRAMSTART</th>\n",
       "      <th>PROGRAMSTATUS</th>\n",
       "      <th>GRADDATE</th>\n",
       "      <th>PROGRAMEND</th>\n",
       "    </tr>\n",
       "  </thead>\n",
       "  <tbody>\n",
       "    <tr>\n",
       "      <th>54</th>\n",
       "      <td>19</td>\n",
       "      <td>19/08/2002</td>\n",
       "      <td>Graduated</td>\n",
       "      <td>11/06/2006</td>\n",
       "      <td>19/05/2006</td>\n",
       "    </tr>\n",
       "    <tr>\n",
       "      <th>103</th>\n",
       "      <td>56</td>\n",
       "      <td>18/08/2008</td>\n",
       "      <td>Terminated</td>\n",
       "      <td>NaN</td>\n",
       "      <td>NaN</td>\n",
       "    </tr>\n",
       "    <tr>\n",
       "      <th>107</th>\n",
       "      <td>105</td>\n",
       "      <td>14/08/2002</td>\n",
       "      <td>Dropped</td>\n",
       "      <td>NaN</td>\n",
       "      <td>NaN</td>\n",
       "    </tr>\n",
       "    <tr>\n",
       "      <th>118</th>\n",
       "      <td>109</td>\n",
       "      <td>17/03/2005</td>\n",
       "      <td>Dropped</td>\n",
       "      <td>NaN</td>\n",
       "      <td>NaN</td>\n",
       "    </tr>\n",
       "    <tr>\n",
       "      <th>136</th>\n",
       "      <td>120</td>\n",
       "      <td>16/08/2004</td>\n",
       "      <td>Graduated</td>\n",
       "      <td>11/06/2006</td>\n",
       "      <td>19/05/2006</td>\n",
       "    </tr>\n",
       "    <tr>\n",
       "      <th>...</th>\n",
       "      <td>...</td>\n",
       "      <td>...</td>\n",
       "      <td>...</td>\n",
       "      <td>...</td>\n",
       "      <td>...</td>\n",
       "    </tr>\n",
       "    <tr>\n",
       "      <th>8366</th>\n",
       "      <td>8340</td>\n",
       "      <td>13/08/2007</td>\n",
       "      <td>Graduated</td>\n",
       "      <td>14/06/2014</td>\n",
       "      <td>19/05/2014</td>\n",
       "    </tr>\n",
       "    <tr>\n",
       "      <th>8392</th>\n",
       "      <td>8368</td>\n",
       "      <td>13/08/2007</td>\n",
       "      <td>Graduated</td>\n",
       "      <td>15/06/2013</td>\n",
       "      <td>13/05/2013</td>\n",
       "    </tr>\n",
       "    <tr>\n",
       "      <th>8421</th>\n",
       "      <td>8394</td>\n",
       "      <td>14/12/1999</td>\n",
       "      <td>Graduated</td>\n",
       "      <td>08/06/2003</td>\n",
       "      <td>10/05/2003</td>\n",
       "    </tr>\n",
       "    <tr>\n",
       "      <th>8442</th>\n",
       "      <td>8423</td>\n",
       "      <td>19/08/2013</td>\n",
       "      <td>Dropped</td>\n",
       "      <td>NaN</td>\n",
       "      <td>NaN</td>\n",
       "    </tr>\n",
       "    <tr>\n",
       "      <th>8443</th>\n",
       "      <td>1</td>\n",
       "      <td>NaN</td>\n",
       "      <td>NaN</td>\n",
       "      <td>NaN</td>\n",
       "      <td>NaN</td>\n",
       "    </tr>\n",
       "  </tbody>\n",
       "</table>\n",
       "<p>436 rows × 5 columns</p>\n",
       "</div>"
      ],
      "text/plain": [
       "      STUID PROGRAMSTART PROGRAMSTATUS    GRADDATE  PROGRAMEND\n",
       "54       19   19/08/2002     Graduated  11/06/2006  19/05/2006\n",
       "103      56   18/08/2008    Terminated         NaN         NaN\n",
       "107     105   14/08/2002       Dropped         NaN         NaN\n",
       "118     109   17/03/2005       Dropped         NaN         NaN\n",
       "136     120   16/08/2004     Graduated  11/06/2006  19/05/2006\n",
       "...     ...          ...           ...         ...         ...\n",
       "8366   8340   13/08/2007     Graduated  14/06/2014  19/05/2014\n",
       "8392   8368   13/08/2007     Graduated  15/06/2013  13/05/2013\n",
       "8421   8394   14/12/1999     Graduated  08/06/2003  10/05/2003\n",
       "8442   8423   19/08/2013       Dropped         NaN         NaN\n",
       "8443      1          NaN           NaN         NaN         NaN\n",
       "\n",
       "[436 rows x 5 columns]"
      ]
     },
     "execution_count": 5,
     "metadata": {},
     "output_type": "execute_result"
    }
   ],
   "source": [
    "bint_df_avgrad"
   ]
  },
  {
   "cell_type": "code",
   "execution_count": 6,
   "id": "f29b1768",
   "metadata": {},
   "outputs": [
    {
     "data": {
      "text/plain": [
       "STUID             int64\n",
       "PROGRAMSTART     object\n",
       "PROGRAMSTATUS    object\n",
       "GRADDATE         object\n",
       "PROGRAMEND       object\n",
       "dtype: object"
      ]
     },
     "execution_count": 6,
     "metadata": {},
     "output_type": "execute_result"
    }
   ],
   "source": [
    "bint_df_avgrad.dtypes"
   ]
  },
  {
   "cell_type": "code",
   "execution_count": 13,
   "id": "213a7649",
   "metadata": {},
   "outputs": [],
   "source": [
    "bint_df_avgrad['PROGRAMSTART'] = pd.to_datetime(bint_df_avgrad['PROGRAMSTART'])"
   ]
  },
  {
   "cell_type": "code",
   "execution_count": 14,
   "id": "13352c73",
   "metadata": {},
   "outputs": [],
   "source": [
    "bint_df_avgrad['GRADDATE'] = pd.to_datetime(bint_df_avgrad['GRADDATE'])"
   ]
  },
  {
   "cell_type": "code",
   "execution_count": 9,
   "id": "0e003b7c",
   "metadata": {},
   "outputs": [],
   "source": [
    "bint_df_avgrad['stend'] = bint_df_avgrad['GRADDATE'] - bint_df_avgrad['PROGRAMSTART']"
   ]
  },
  {
   "cell_type": "code",
   "execution_count": 10,
   "id": "dc9bd54f",
   "metadata": {},
   "outputs": [
    {
     "data": {
      "text/plain": [
       "STUID                      int64\n",
       "PROGRAMSTART      datetime64[ns]\n",
       "PROGRAMSTATUS             object\n",
       "GRADDATE          datetime64[ns]\n",
       "PROGRAMEND                object\n",
       "stend            timedelta64[ns]\n",
       "dtype: object"
      ]
     },
     "execution_count": 10,
     "metadata": {},
     "output_type": "execute_result"
    }
   ],
   "source": [
    "bint_df_avgrad.dtypes"
   ]
  },
  {
   "cell_type": "code",
   "execution_count": 11,
   "id": "34ed4969",
   "metadata": {},
   "outputs": [],
   "source": [
    "avgrad = bint_df_avgrad['stend'].mean()"
   ]
  },
  {
   "cell_type": "code",
   "execution_count": 12,
   "id": "c452724d",
   "metadata": {},
   "outputs": [
    {
     "data": {
      "text/plain": [
       "Timedelta('1146 days 21:17:13.043478256')"
      ]
     },
     "execution_count": 12,
     "metadata": {},
     "output_type": "execute_result"
    }
   ],
   "source": [
    "avgrad"
   ]
  },
  {
   "cell_type": "code",
   "execution_count": null,
   "id": "5d96b131",
   "metadata": {},
   "outputs": [],
   "source": []
  }
 ],
 "metadata": {
  "kernelspec": {
   "display_name": "Python 3 (ipykernel)",
   "language": "python",
   "name": "python3"
  },
  "language_info": {
   "codemirror_mode": {
    "name": "ipython",
    "version": 3
   },
   "file_extension": ".py",
   "mimetype": "text/x-python",
   "name": "python",
   "nbconvert_exporter": "python",
   "pygments_lexer": "ipython3",
   "version": "3.10.9"
  }
 },
 "nbformat": 4,
 "nbformat_minor": 5
}
